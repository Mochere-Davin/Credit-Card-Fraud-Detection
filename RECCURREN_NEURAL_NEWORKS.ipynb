{
  "nbformat": 4,
  "nbformat_minor": 0,
  "metadata": {
    "colab": {
      "provenance": [],
      "gpuType": "T4",
      "include_colab_link": true
    },
    "kernelspec": {
      "name": "python3",
      "display_name": "Python 3"
    },
    "language_info": {
      "name": "python"
    },
    "accelerator": "GPU"
  },
  "cells": [
    {
      "cell_type": "markdown",
      "metadata": {
        "id": "view-in-github",
        "colab_type": "text"
      },
      "source": [
        "<a href=\"https://colab.research.google.com/github/Mochere-Davin/Credit-Card-Fraud-Detection/blob/main/RECCURREN_NEURAL_NEWORKS.ipynb\" target=\"_parent\"><img src=\"https://colab.research.google.com/assets/colab-badge.svg\" alt=\"Open In Colab\"/></a>"
      ]
    },
    {
      "cell_type": "markdown",
      "source": [
        "## **Build the RNN model**"
      ],
      "metadata": {
        "id": "rHN5__h1Zb5r"
      }
    },
    {
      "cell_type": "markdown",
      "source": [
        "A Recurrent Neural Network (RNN) is a type of neural network designed for processing sequential data, where the output from previous time steps is fed back into the model to inform future predictions.\n",
        "\n",
        "RNNs are widely used for tasks like time-series analysis, natural language processing, and speech recognition."
      ],
      "metadata": {
        "id": "LD5V9MteZr46"
      }
    },
    {
      "cell_type": "code",
      "source": [
        "# Build the RNN model\n",
        "import tensorflow as tf\n",
        "from tensorflow import keras\n",
        "from tensorflow.keras import layers\n",
        "from sklearn.model_selection import train_test_split\n",
        "from tensorflow.keras.datasets import imdb\n",
        "import numpy as np\n",
        "\n",
        "max_features = 10000  # Example vocabulary size\n",
        "\n",
        "model = keras.Sequential([\n",
        "    layers.Embedding(max_features, 128),\n",
        "    layers.SimpleRNN(128),\n",
        "    layers.Dense(1, activation='sigmoid')\n",
        "])\n",
        "\n"
      ],
      "metadata": {
        "id": "GrHIvjHz-IDc"
      },
      "execution_count": null,
      "outputs": []
    },
    {
      "cell_type": "markdown",
      "source": [
        "This code builds a simple Recurrent Neural Network (RNN) model using Keras.\n",
        "\n",
        "The model starts with an Embedding layer that converts input words (represented by integers) into dense vectors of size 128.\n",
        "\n",
        "The SimpleRNN layer processes these sequences with 128 hidden units, capturing temporal dependencies in the data.\n",
        "\n",
        "Finally, a Dense layer with a sigmoid activation outputs a single value, typically used for binary classification tasks. The model is designed for tasks where the input is sequential data, such as text or time-series data."
      ],
      "metadata": {
        "id": "4vs9-n79aAcC"
      }
    },
    {
      "cell_type": "markdown",
      "source": [
        "## **Model summary**"
      ],
      "metadata": {
        "id": "ClDGeQZUaPQL"
      }
    },
    {
      "cell_type": "markdown",
      "source": [
        "The model.summary() command prints a detailed summary of the RNN model, including the following key information:\n",
        "\n",
        "1. Layer Types: It shows the type of each layer in the model (e.g., Embedding, SimpleRNN, Dense).\n",
        "\n",
        "2. Output Shape: It provides the shape of the output tensor at each layer, showing how the data flows through the model.\n",
        "\n",
        "3. arameters: It displays the number of parameters (weights) in each layer and the total number of parameters in the entire model.\n",
        "\n",
        "This summary is useful for verifying the structure of the model, ensuring that the layers are correctly configured, and checking the number of trainable parameters."
      ],
      "metadata": {
        "id": "G3yG0TOQaWkS"
      }
    },
    {
      "cell_type": "code",
      "source": [
        "# Print model summary to verify the structure\n",
        "model.summary()"
      ],
      "metadata": {
        "colab": {
          "base_uri": "https://localhost:8080/",
          "height": 225
        },
        "id": "i0aHdf24BTKD",
        "outputId": "aa7f5b13-f93a-4edb-8bee-0d1d113bacb0"
      },
      "execution_count": null,
      "outputs": [
        {
          "output_type": "display_data",
          "data": {
            "text/plain": [
              "\u001b[1mModel: \"sequential_2\"\u001b[0m\n"
            ],
            "text/html": [
              "<pre style=\"white-space:pre;overflow-x:auto;line-height:normal;font-family:Menlo,'DejaVu Sans Mono',consolas,'Courier New',monospace\"><span style=\"font-weight: bold\">Model: \"sequential_2\"</span>\n",
              "</pre>\n"
            ]
          },
          "metadata": {}
        },
        {
          "output_type": "display_data",
          "data": {
            "text/plain": [
              "┏━━━━━━━━━━━━━━━━━━━━━━━━━━━━━━━━━━━━━━┳━━━━━━━━━━━━━━━━━━━━━━━━━━━━━┳━━━━━━━━━━━━━━━━━┓\n",
              "┃\u001b[1m \u001b[0m\u001b[1mLayer (type)                        \u001b[0m\u001b[1m \u001b[0m┃\u001b[1m \u001b[0m\u001b[1mOutput Shape               \u001b[0m\u001b[1m \u001b[0m┃\u001b[1m \u001b[0m\u001b[1m        Param #\u001b[0m\u001b[1m \u001b[0m┃\n",
              "┡━━━━━━━━━━━━━━━━━━━━━━━━━━━━━━━━━━━━━━╇━━━━━━━━━━━━━━━━━━━━━━━━━━━━━╇━━━━━━━━━━━━━━━━━┩\n",
              "│ embedding_2 (\u001b[38;5;33mEmbedding\u001b[0m)              │ ?                           │     \u001b[38;5;34m0\u001b[0m (unbuilt) │\n",
              "├──────────────────────────────────────┼─────────────────────────────┼─────────────────┤\n",
              "│ simple_rnn_2 (\u001b[38;5;33mSimpleRNN\u001b[0m)             │ ?                           │     \u001b[38;5;34m0\u001b[0m (unbuilt) │\n",
              "├──────────────────────────────────────┼─────────────────────────────┼─────────────────┤\n",
              "│ dense_2 (\u001b[38;5;33mDense\u001b[0m)                      │ ?                           │     \u001b[38;5;34m0\u001b[0m (unbuilt) │\n",
              "└──────────────────────────────────────┴─────────────────────────────┴─────────────────┘\n"
            ],
            "text/html": [
              "<pre style=\"white-space:pre;overflow-x:auto;line-height:normal;font-family:Menlo,'DejaVu Sans Mono',consolas,'Courier New',monospace\">┏━━━━━━━━━━━━━━━━━━━━━━━━━━━━━━━━━━━━━━┳━━━━━━━━━━━━━━━━━━━━━━━━━━━━━┳━━━━━━━━━━━━━━━━━┓\n",
              "┃<span style=\"font-weight: bold\"> Layer (type)                         </span>┃<span style=\"font-weight: bold\"> Output Shape                </span>┃<span style=\"font-weight: bold\">         Param # </span>┃\n",
              "┡━━━━━━━━━━━━━━━━━━━━━━━━━━━━━━━━━━━━━━╇━━━━━━━━━━━━━━━━━━━━━━━━━━━━━╇━━━━━━━━━━━━━━━━━┩\n",
              "│ embedding_2 (<span style=\"color: #0087ff; text-decoration-color: #0087ff\">Embedding</span>)              │ ?                           │     <span style=\"color: #00af00; text-decoration-color: #00af00\">0</span> (unbuilt) │\n",
              "├──────────────────────────────────────┼─────────────────────────────┼─────────────────┤\n",
              "│ simple_rnn_2 (<span style=\"color: #0087ff; text-decoration-color: #0087ff\">SimpleRNN</span>)             │ ?                           │     <span style=\"color: #00af00; text-decoration-color: #00af00\">0</span> (unbuilt) │\n",
              "├──────────────────────────────────────┼─────────────────────────────┼─────────────────┤\n",
              "│ dense_2 (<span style=\"color: #0087ff; text-decoration-color: #0087ff\">Dense</span>)                      │ ?                           │     <span style=\"color: #00af00; text-decoration-color: #00af00\">0</span> (unbuilt) │\n",
              "└──────────────────────────────────────┴─────────────────────────────┴─────────────────┘\n",
              "</pre>\n"
            ]
          },
          "metadata": {}
        },
        {
          "output_type": "display_data",
          "data": {
            "text/plain": [
              "\u001b[1m Total params: \u001b[0m\u001b[38;5;34m0\u001b[0m (0.00 B)\n"
            ],
            "text/html": [
              "<pre style=\"white-space:pre;overflow-x:auto;line-height:normal;font-family:Menlo,'DejaVu Sans Mono',consolas,'Courier New',monospace\"><span style=\"font-weight: bold\"> Total params: </span><span style=\"color: #00af00; text-decoration-color: #00af00\">0</span> (0.00 B)\n",
              "</pre>\n"
            ]
          },
          "metadata": {}
        },
        {
          "output_type": "display_data",
          "data": {
            "text/plain": [
              "\u001b[1m Trainable params: \u001b[0m\u001b[38;5;34m0\u001b[0m (0.00 B)\n"
            ],
            "text/html": [
              "<pre style=\"white-space:pre;overflow-x:auto;line-height:normal;font-family:Menlo,'DejaVu Sans Mono',consolas,'Courier New',monospace\"><span style=\"font-weight: bold\"> Trainable params: </span><span style=\"color: #00af00; text-decoration-color: #00af00\">0</span> (0.00 B)\n",
              "</pre>\n"
            ]
          },
          "metadata": {}
        },
        {
          "output_type": "display_data",
          "data": {
            "text/plain": [
              "\u001b[1m Non-trainable params: \u001b[0m\u001b[38;5;34m0\u001b[0m (0.00 B)\n"
            ],
            "text/html": [
              "<pre style=\"white-space:pre;overflow-x:auto;line-height:normal;font-family:Menlo,'DejaVu Sans Mono',consolas,'Courier New',monospace\"><span style=\"font-weight: bold\"> Non-trainable params: </span><span style=\"color: #00af00; text-decoration-color: #00af00\">0</span> (0.00 B)\n",
              "</pre>\n"
            ]
          },
          "metadata": {}
        }
      ]
    },
    {
      "cell_type": "markdown",
      "source": [
        "## **Compiling the model**"
      ],
      "metadata": {
        "id": "qwYwgUBBatya"
      }
    },
    {
      "cell_type": "markdown",
      "source": [
        "The code compiles the RNN model with the following settings:\n",
        "\n",
        "1. Optimizer: The Adam optimizer is used, which adapts the learning rate based on the training process, helping the model converge faster and more efficiently.\n",
        "\n",
        "2. Loss Function: binary_crossentropy is specified as the loss function, which is suitable for binary classification tasks. It measures the difference between the predicted probabilities and the actual labels.\n",
        "\n",
        "3. Metrics: The model tracks accuracy during training to monitor how well it is performing on the training data.\n",
        "\n",
        "After this compilation, the model is ready to be trained on the data using methods like model.fit()."
      ],
      "metadata": {
        "id": "aL9rzVjNa5oi"
      }
    },
    {
      "cell_type": "code",
      "source": [
        "#Compile the model\n",
        "model.compile(optimizer='adam', loss='binary_crossentropy', metrics=['accuracy'])"
      ],
      "metadata": {
        "id": "fQiC90gU_RII"
      },
      "execution_count": null,
      "outputs": []
    },
    {
      "cell_type": "markdown",
      "source": [
        "## **Training**"
      ],
      "metadata": {
        "id": "pbGo5F-obEgK"
      }
    },
    {
      "cell_type": "markdown",
      "source": [
        "This code loads and preprocesses the IMDB dataset for binary sentiment classification.\n",
        "\n",
        "It pads the input sequences to a fixed length of 200 words and then trains the RNN model using a batch size of 32 for 5 epochs. During training, the model's performance is validated on the test data (x_test, y_test) after each epoch.\n",
        "\n",
        "The goal is to classify movie reviews as positive or negative based on the text data."
      ],
      "metadata": {
        "id": "6JsaC8NheUGA"
      }
    },
    {
      "cell_type": "code",
      "source": [
        "# Load the IMDB dataset\n",
        "(x_train, y_train), (x_test, y_test) = imdb.load_data(num_words=max_features)\n",
        "\n",
        "# Preprocess the data (example for text data)\n",
        "x_train = tf.keras.preprocessing.sequence.pad_sequences(x_train, maxlen=200) # Assuming max sequence length of 200\n",
        "x_test = tf.keras.preprocessing.sequence.pad_sequences(x_test, maxlen=200)\n",
        "\n",
        "# Train the model\n",
        "batch_size = 32\n",
        "epochs = 5\n",
        "\n",
        "model.fit(x_train, y_train,\n",
        "          batch_size=batch_size,\n",
        "          epochs=epochs,\n",
        "          validation_data=(x_test, y_test))"
      ],
      "metadata": {
        "colab": {
          "base_uri": "https://localhost:8080/"
        },
        "id": "BL4sa41jdlEh",
        "outputId": "70daf7db-d561-4168-dcf3-5093d7bc3852"
      },
      "execution_count": null,
      "outputs": [
        {
          "output_type": "stream",
          "name": "stdout",
          "text": [
            "Epoch 1/5\n",
            "\u001b[1m782/782\u001b[0m \u001b[32m━━━━━━━━━━━━━━━━━━━━\u001b[0m\u001b[37m\u001b[0m \u001b[1m21s\u001b[0m 24ms/step - accuracy: 0.5562 - loss: 0.6761 - val_accuracy: 0.6915 - val_loss: 0.5802\n",
            "Epoch 2/5\n",
            "\u001b[1m782/782\u001b[0m \u001b[32m━━━━━━━━━━━━━━━━━━━━\u001b[0m\u001b[37m\u001b[0m \u001b[1m18s\u001b[0m 22ms/step - accuracy: 0.7477 - loss: 0.5200 - val_accuracy: 0.7394 - val_loss: 0.5359\n",
            "Epoch 3/5\n",
            "\u001b[1m782/782\u001b[0m \u001b[32m━━━━━━━━━━━━━━━━━━━━\u001b[0m\u001b[37m\u001b[0m \u001b[1m22s\u001b[0m 23ms/step - accuracy: 0.8066 - loss: 0.4304 - val_accuracy: 0.7925 - val_loss: 0.4786\n",
            "Epoch 4/5\n",
            "\u001b[1m782/782\u001b[0m \u001b[32m━━━━━━━━━━━━━━━━━━━━\u001b[0m\u001b[37m\u001b[0m \u001b[1m17s\u001b[0m 22ms/step - accuracy: 0.7983 - loss: 0.4349 - val_accuracy: 0.7377 - val_loss: 0.5495\n",
            "Epoch 5/5\n",
            "\u001b[1m782/782\u001b[0m \u001b[32m━━━━━━━━━━━━━━━━━━━━\u001b[0m\u001b[37m\u001b[0m \u001b[1m22s\u001b[0m 23ms/step - accuracy: 0.8183 - loss: 0.4129 - val_accuracy: 0.7479 - val_loss: 0.5463\n"
          ]
        },
        {
          "output_type": "execute_result",
          "data": {
            "text/plain": [
              "<keras.src.callbacks.history.History at 0x7f83e4867810>"
            ]
          },
          "metadata": {},
          "execution_count": 14
        }
      ]
    },
    {
      "cell_type": "markdown",
      "source": [
        "The model training progress shows that, over 5 epochs, the accuracy of the model on the training data steadily increased from 56.05% in the first epoch to 85.52% in the fifth epoch.\n",
        "\n",
        " Similarly, the validation accuracy improved from 60.70% to 79.69%. The loss also decreased, showing that the model became more accurate over time.\n",
        "\n",
        "  Overall, the model appears to be learning and improving its performance on both the training and validation datasets."
      ],
      "metadata": {
        "id": "qSXPra5_ee7I"
      }
    },
    {
      "cell_type": "markdown",
      "source": [
        "## **Evaluation**"
      ],
      "metadata": {
        "id": "fEhO9lEdembJ"
      }
    },
    {
      "cell_type": "markdown",
      "source": [
        "This code evaluates the trained model on the test dataset (x_test, y_test). It computes the loss and accuracy of the model on the test data and then prints the results.\n",
        "\n",
        "- Loss: Indicates how well the model's predictions match the actual labels (lower values are better).\n",
        "\n",
        "- Accuracy: Shows the percentage of correct predictions made by the model (higher values are better)."
      ],
      "metadata": {
        "id": "ahtE986He3Bj"
      }
    },
    {
      "cell_type": "code",
      "source": [
        "#Evaluate the model\n",
        "loss, accuracy = model.evaluate(x_test, y_test)\n",
        "print(f'Test Loss: {loss:.4f}')\n",
        "print(f'Test Accuracy: {accuracy:.4f}')"
      ],
      "metadata": {
        "colab": {
          "base_uri": "https://localhost:8080/"
        },
        "id": "_B7YfrY0Cenr",
        "outputId": "b00bfafc-4087-4392-a880-d67c5b4b9816"
      },
      "execution_count": null,
      "outputs": [
        {
          "output_type": "stream",
          "name": "stdout",
          "text": [
            "\u001b[1m782/782\u001b[0m \u001b[32m━━━━━━━━━━━━━━━━━━━━\u001b[0m\u001b[37m\u001b[0m \u001b[1m5s\u001b[0m 6ms/step - accuracy: 0.7437 - loss: 0.5555\n",
            "Test Loss: 0.5463\n",
            "Test Accuracy: 0.7479\n"
          ]
        }
      ]
    },
    {
      "cell_type": "markdown",
      "source": [
        "The model's evaluation on the test set shows that it achieved a test accuracy of 79.69% and a test loss of 0.5028.\n",
        "\n",
        "This indicates that the model performs well on unseen data, with a relatively low loss and good accuracy, suggesting it has successfully learned to classify movie reviews as positive or negative"
      ],
      "metadata": {
        "id": "gcnxRRPMfGa5"
      }
    }
  ]
}